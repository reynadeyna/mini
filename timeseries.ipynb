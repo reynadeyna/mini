{
 "cells": [
  {
   "cell_type": "markdown",
   "metadata": {},
   "source": [
    "Time series forecasting task using the \"close\" parameter in a dataset. The last time steps to predict one time step forward. Train-test split performance with 20% for testing, ensuring that the dataset sequences are not mixed."
   ]
  },
  {
   "cell_type": "markdown",
   "metadata": {},
   "source": [
    "Imports"
   ]
  },
  {
   "cell_type": "code",
   "execution_count": 67,
   "metadata": {},
   "outputs": [],
   "source": [
    "import pandas as pd\n",
    "from sklearn.model_selection import TimeSeriesSplit\n",
    "from sklearn.metrics import mean_squared_error\n",
    "from sklearn.preprocessing import MinMaxScaler\n",
    "\n",
    "\n"
   ]
  },
  {
   "cell_type": "markdown",
   "metadata": {},
   "source": [
    "Load dataset"
   ]
  },
  {
   "cell_type": "code",
   "execution_count": 68,
   "metadata": {},
   "outputs": [
    {
     "data": {
      "text/html": [
       "<div>\n",
       "<style scoped>\n",
       "    .dataframe tbody tr th:only-of-type {\n",
       "        vertical-align: middle;\n",
       "    }\n",
       "\n",
       "    .dataframe tbody tr th {\n",
       "        vertical-align: top;\n",
       "    }\n",
       "\n",
       "    .dataframe thead th {\n",
       "        text-align: right;\n",
       "    }\n",
       "</style>\n",
       "<table border=\"1\" class=\"dataframe\">\n",
       "  <thead>\n",
       "    <tr style=\"text-align: right;\">\n",
       "      <th></th>\n",
       "      <th>symbol</th>\n",
       "      <th>MSFT</th>\n",
       "      <th>MSFT.1</th>\n",
       "      <th>MSFT.2</th>\n",
       "      <th>MSFT.3</th>\n",
       "      <th>MSFT.4</th>\n",
       "    </tr>\n",
       "  </thead>\n",
       "  <tbody>\n",
       "    <tr>\n",
       "      <th>0</th>\n",
       "      <td>NaN</td>\n",
       "      <td>open</td>\n",
       "      <td>high</td>\n",
       "      <td>low</td>\n",
       "      <td>close</td>\n",
       "      <td>volume</td>\n",
       "    </tr>\n",
       "    <tr>\n",
       "      <th>1</th>\n",
       "      <td>[2022-10-11 12:30:00-04:00, 2022-10-11 13:30:0...</td>\n",
       "      <td>228.38999938964844</td>\n",
       "      <td>229.05999755859375</td>\n",
       "      <td>227.38999938964844</td>\n",
       "      <td>227.60000610351562</td>\n",
       "      <td>2247906.0</td>\n",
       "    </tr>\n",
       "    <tr>\n",
       "      <th>2</th>\n",
       "      <td>[2022-10-11 13:30:00-04:00, 2022-10-11 14:30:0...</td>\n",
       "      <td>227.60499572753906</td>\n",
       "      <td>228.5</td>\n",
       "      <td>226.86000061035156</td>\n",
       "      <td>227.60000610351562</td>\n",
       "      <td>2307918.0</td>\n",
       "    </tr>\n",
       "    <tr>\n",
       "      <th>3</th>\n",
       "      <td>[2022-10-11 14:30:00-04:00, 2022-10-11 15:30:0...</td>\n",
       "      <td>227.58770751953125</td>\n",
       "      <td>228.02999877929688</td>\n",
       "      <td>224.11000061035156</td>\n",
       "      <td>225.05999755859375</td>\n",
       "      <td>4256199.0</td>\n",
       "    </tr>\n",
       "    <tr>\n",
       "      <th>4</th>\n",
       "      <td>[2022-10-11 15:30:00-04:00, 2022-10-11 16:30:0...</td>\n",
       "      <td>225.08999633789062</td>\n",
       "      <td>225.97000122070312</td>\n",
       "      <td>224.49000549316406</td>\n",
       "      <td>225.44000244140625</td>\n",
       "      <td>3300724.0</td>\n",
       "    </tr>\n",
       "    <tr>\n",
       "      <th>...</th>\n",
       "      <td>...</td>\n",
       "      <td>...</td>\n",
       "      <td>...</td>\n",
       "      <td>...</td>\n",
       "      <td>...</td>\n",
       "      <td>...</td>\n",
       "    </tr>\n",
       "    <tr>\n",
       "      <th>2542</th>\n",
       "      <td>[2024-03-25 14:30:00-04:00, 2024-03-25 15:30:0...</td>\n",
       "      <td>423.8500061035156</td>\n",
       "      <td>424.3949890136719</td>\n",
       "      <td>423.67999267578125</td>\n",
       "      <td>423.75</td>\n",
       "      <td>1065865.0</td>\n",
       "    </tr>\n",
       "    <tr>\n",
       "      <th>2543</th>\n",
       "      <td>[2024-03-25 15:30:00-04:00, 2024-03-25 16:30:0...</td>\n",
       "      <td>423.739990234375</td>\n",
       "      <td>423.89990234375</td>\n",
       "      <td>422.32000732421875</td>\n",
       "      <td>422.8900146484375</td>\n",
       "      <td>2365026.0</td>\n",
       "    </tr>\n",
       "    <tr>\n",
       "      <th>2544</th>\n",
       "      <td>[2024-03-26 09:30:00-04:00, 2024-03-26 10:30:0...</td>\n",
       "      <td>425.5050048828125</td>\n",
       "      <td>425.9800109863281</td>\n",
       "      <td>422.8999938964844</td>\n",
       "      <td>424.4346923828125</td>\n",
       "      <td>2623555.0</td>\n",
       "    </tr>\n",
       "    <tr>\n",
       "      <th>2545</th>\n",
       "      <td>[2024-03-26 10:30:00-04:00, 2024-03-26 11:30:0...</td>\n",
       "      <td>424.4100036621094</td>\n",
       "      <td>424.7099914550781</td>\n",
       "      <td>423.67999267578125</td>\n",
       "      <td>424.0</td>\n",
       "      <td>1499059.0</td>\n",
       "    </tr>\n",
       "    <tr>\n",
       "      <th>2546</th>\n",
       "      <td>[2024-03-26 11:30:00-04:00, 2024-03-26 12:30:0...</td>\n",
       "      <td>424.0</td>\n",
       "      <td>425.06500244140625</td>\n",
       "      <td>423.8999938964844</td>\n",
       "      <td>423.9700012207031</td>\n",
       "      <td>881919.0</td>\n",
       "    </tr>\n",
       "  </tbody>\n",
       "</table>\n",
       "<p>2547 rows × 6 columns</p>\n",
       "</div>"
      ],
      "text/plain": [
       "                                                 symbol                MSFT  \\\n",
       "0                                                   NaN                open   \n",
       "1     [2022-10-11 12:30:00-04:00, 2022-10-11 13:30:0...  228.38999938964844   \n",
       "2     [2022-10-11 13:30:00-04:00, 2022-10-11 14:30:0...  227.60499572753906   \n",
       "3     [2022-10-11 14:30:00-04:00, 2022-10-11 15:30:0...  227.58770751953125   \n",
       "4     [2022-10-11 15:30:00-04:00, 2022-10-11 16:30:0...  225.08999633789062   \n",
       "...                                                 ...                 ...   \n",
       "2542  [2024-03-25 14:30:00-04:00, 2024-03-25 15:30:0...   423.8500061035156   \n",
       "2543  [2024-03-25 15:30:00-04:00, 2024-03-25 16:30:0...    423.739990234375   \n",
       "2544  [2024-03-26 09:30:00-04:00, 2024-03-26 10:30:0...   425.5050048828125   \n",
       "2545  [2024-03-26 10:30:00-04:00, 2024-03-26 11:30:0...   424.4100036621094   \n",
       "2546  [2024-03-26 11:30:00-04:00, 2024-03-26 12:30:0...               424.0   \n",
       "\n",
       "                  MSFT.1              MSFT.2              MSFT.3     MSFT.4  \n",
       "0                   high                 low               close     volume  \n",
       "1     229.05999755859375  227.38999938964844  227.60000610351562  2247906.0  \n",
       "2                  228.5  226.86000061035156  227.60000610351562  2307918.0  \n",
       "3     228.02999877929688  224.11000061035156  225.05999755859375  4256199.0  \n",
       "4     225.97000122070312  224.49000549316406  225.44000244140625  3300724.0  \n",
       "...                  ...                 ...                 ...        ...  \n",
       "2542   424.3949890136719  423.67999267578125              423.75  1065865.0  \n",
       "2543     423.89990234375  422.32000732421875   422.8900146484375  2365026.0  \n",
       "2544   425.9800109863281   422.8999938964844   424.4346923828125  2623555.0  \n",
       "2545   424.7099914550781  423.67999267578125               424.0  1499059.0  \n",
       "2546  425.06500244140625   423.8999938964844   423.9700012207031   881919.0  \n",
       "\n",
       "[2547 rows x 6 columns]"
      ]
     },
     "metadata": {},
     "output_type": "display_data"
    },
    {
     "data": {
      "text/plain": [
       "2547"
      ]
     },
     "execution_count": 68,
     "metadata": {},
     "output_type": "execute_result"
    }
   ],
   "source": [
    "url = \"https://gist.githubusercontent.com/Foxicution/9f9e25a45147b0ef5f262e565d78fe28/raw/25e7fe42b0f8368266f783c4920d540de8c26731/data.csv\"\n",
    "data = pd.read_csv(url)\n",
    "# data = data[::-1]\n",
    "display(data)\n",
    "len(data)"
   ]
  },
  {
   "cell_type": "code",
   "execution_count": 69,
   "metadata": {},
   "outputs": [
    {
     "name": "stdout",
     "output_type": "stream",
     "text": [
      "Index(['symbol', 'MSFT', 'MSFT.1', 'MSFT.2', 'MSFT.3', 'MSFT.4'], dtype='object')\n",
      "                                              symbol                MSFT  \\\n",
      "0                                                NaN                open   \n",
      "1  [2022-10-11 12:30:00-04:00, 2022-10-11 13:30:0...  228.38999938964844   \n",
      "2  [2022-10-11 13:30:00-04:00, 2022-10-11 14:30:0...  227.60499572753906   \n",
      "3  [2022-10-11 14:30:00-04:00, 2022-10-11 15:30:0...  227.58770751953125   \n",
      "4  [2022-10-11 15:30:00-04:00, 2022-10-11 16:30:0...  225.08999633789062   \n",
      "\n",
      "               MSFT.1              MSFT.2              MSFT.3     MSFT.4  \n",
      "0                high                 low               close     volume  \n",
      "1  229.05999755859375  227.38999938964844  227.60000610351562  2247906.0  \n",
      "2               228.5  226.86000061035156  227.60000610351562  2307918.0  \n",
      "3  228.02999877929688  224.11000061035156  225.05999755859375  4256199.0  \n",
      "4  225.97000122070312  224.49000549316406  225.44000244140625  3300724.0  \n"
     ]
    }
   ],
   "source": [
    "print(data.columns)\n",
    "print(data.head())"
   ]
  },
  {
   "cell_type": "markdown",
   "metadata": {},
   "source": [
    "Change NaN to a date"
   ]
  },
  {
   "cell_type": "code",
   "execution_count": 70,
   "metadata": {},
   "outputs": [
    {
     "name": "stdout",
     "output_type": "stream",
     "text": [
      "                                              symbol                MSFT  \\\n",
      "0                                               date                open   \n",
      "1  [2022-10-11 12:30:00-04:00, 2022-10-11 13:30:0...  228.38999938964844   \n",
      "2  [2022-10-11 13:30:00-04:00, 2022-10-11 14:30:0...  227.60499572753906   \n",
      "3  [2022-10-11 14:30:00-04:00, 2022-10-11 15:30:0...  227.58770751953125   \n",
      "4  [2022-10-11 15:30:00-04:00, 2022-10-11 16:30:0...  225.08999633789062   \n",
      "\n",
      "               MSFT.1              MSFT.2              MSFT.3     MSFT.4  \n",
      "0                high                 low               close     volume  \n",
      "1  229.05999755859375  227.38999938964844  227.60000610351562  2247906.0  \n",
      "2               228.5  226.86000061035156  227.60000610351562  2307918.0  \n",
      "3  228.02999877929688  224.11000061035156  225.05999755859375  4256199.0  \n",
      "4  225.97000122070312  224.49000549316406  225.44000244140625  3300724.0  \n"
     ]
    },
    {
     "name": "stderr",
     "output_type": "stream",
     "text": [
      "/var/folders/bz/kypytydj1jx0075pzhxs79gr0000gn/T/ipykernel_31834/3178518569.py:3: FutureWarning: Series.fillna with 'method' is deprecated and will raise in a future version. Use obj.ffill() or obj.bfill() instead.\n",
      "  data['symbol'] = data['symbol'].fillna(method='ffill')\n"
     ]
    }
   ],
   "source": [
    "data['symbol'].iloc[0] = 'date'\n",
    "\n",
    "data['symbol'] = data['symbol'].fillna(method='ffill')\n",
    "\n",
    "print(data.head())"
   ]
  },
  {
   "cell_type": "markdown",
   "metadata": {},
   "source": []
  },
  {
   "cell_type": "markdown",
   "metadata": {},
   "source": [
    "Check if normalization is needed\n"
   ]
  },
  {
   "cell_type": "code",
   "execution_count": 71,
   "metadata": {},
   "outputs": [
    {
     "name": "stdout",
     "output_type": "stream",
     "text": [
      "Summary Statistics for Close Prices:\n",
      "count                  2547\n",
      "unique                 2395\n",
      "top       328.6300048828125\n",
      "freq                      4\n",
      "Name: MSFT.3, dtype: object\n"
     ]
    }
   ],
   "source": [
    "close_stats = data['MSFT.3'].describe()\n",
    "print(\"Summary Statistics for Close Prices:\")\n",
    "print(close_stats)"
   ]
  },
  {
   "cell_type": "markdown",
   "metadata": {},
   "source": [
    "Prep a dataset for time series forecasting"
   ]
  },
  {
   "cell_type": "code",
   "execution_count": 72,
   "metadata": {},
   "outputs": [
    {
     "name": "stdout",
     "output_type": "stream",
     "text": [
      "                                                                 close\n",
      "date                                                                  \n",
      "[2022-10-11 15:30:00-04:00, 2022-10-11 16:30:00...  225.44000244140625\n",
      "[2022-10-11 14:30:00-04:00, 2022-10-11 15:30:00...  225.05999755859375\n",
      "[2022-10-11 13:30:00-04:00, 2022-10-11 14:30:00...  227.60000610351562\n",
      "[2022-10-11 12:30:00-04:00, 2022-10-11 13:30:00...  227.60000610351562\n",
      "date                                                             close\n",
      "                                                                 close\n",
      "date                                                                  \n",
      "[2022-10-11 15:30:00-04:00, 2022-10-11 16:30:00...  225.44000244140625\n",
      "[2022-10-11 14:30:00-04:00, 2022-10-11 15:30:00...  225.05999755859375\n",
      "[2022-10-11 13:30:00-04:00, 2022-10-11 14:30:00...  227.60000610351562\n",
      "[2022-10-11 12:30:00-04:00, 2022-10-11 13:30:00...  227.60000610351562\n",
      "date                                                             close\n"
     ]
    }
   ],
   "source": [
    "data = data.sort_index(ascending=False, axis=0).reset_index(drop=True)\n",
    "\n",
    "new_dataset = pd.DataFrame(index=range(0, len(data)), columns=['date', 'close'])\n",
    "\n",
    "for i in range(0, len(data)):\n",
    "    new_dataset[\"date\"][i] = data['symbol'][i]\n",
    "    new_dataset[\"close\"][i] = data[\"MSFT.3\"][i]\n",
    "\n",
    "train_data = new_dataset.iloc[:987]\n",
    "valid_data = new_dataset.iloc[987:]\n",
    "\n",
    "new_dataset.index = new_dataset.date\n",
    "new_dataset.drop(\"date\", axis=1, inplace=True)\n",
    "\n",
    "print(new_dataset.tail(5))\n",
    "\n",
    "print(new_dataset.tail(5))"
   ]
  },
  {
   "cell_type": "code",
   "execution_count": 73,
   "metadata": {},
   "outputs": [
    {
     "data": {
      "text/plain": [
       "(987, 2)"
      ]
     },
     "execution_count": 73,
     "metadata": {},
     "output_type": "execute_result"
    }
   ],
   "source": [
    "train_data.shape"
   ]
  },
  {
   "cell_type": "code",
   "execution_count": 74,
   "metadata": {},
   "outputs": [
    {
     "data": {
      "text/plain": [
       "(1560, 2)"
      ]
     },
     "execution_count": 74,
     "metadata": {},
     "output_type": "execute_result"
    }
   ],
   "source": [
    "valid_data.shape"
   ]
  },
  {
   "cell_type": "markdown",
   "metadata": {},
   "source": [
    "Scaling"
   ]
  }
 ],
 "metadata": {
  "kernelspec": {
   "display_name": "Python 3",
   "language": "python",
   "name": "python3"
  },
  "language_info": {
   "codemirror_mode": {
    "name": "ipython",
    "version": 3
   },
   "file_extension": ".py",
   "mimetype": "text/x-python",
   "name": "python",
   "nbconvert_exporter": "python",
   "pygments_lexer": "ipython3",
   "version": "3.11.1"
  }
 },
 "nbformat": 4,
 "nbformat_minor": 2
}
